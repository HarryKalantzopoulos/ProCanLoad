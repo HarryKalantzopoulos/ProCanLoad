{
 "cells": [
  {
   "cell_type": "markdown",
   "metadata": {},
   "source": [
    "# Loading available images from the filtered parquet files"
   ]
  },
  {
   "cell_type": "markdown",
   "metadata": {},
   "source": [
    "## First thing first install the package available on  ..."
   ]
  },
  {
   "cell_type": "code",
   "execution_count": 7,
   "metadata": {},
   "outputs": [],
   "source": [
    "import os\n",
    "import importlib.util\n",
    " \n",
    "package_name = 'ProCanLoad'\n",
    " \n",
    "if importlib.util.find_spec(package_name) is None:\n",
    "    os.exec('')\n",
    "else:\n",
    "    from ProCanLoad.ImageLoader import ImageLoader"
   ]
  },
  {
   "cell_type": "markdown",
   "metadata": {},
   "source": [
    "## Inputs:\n",
    "\n",
    "    1. You may load the filtered parquets as pandas DataFrames or just give the path to parquet file.\n",
    "\n",
    "    2. Define the location of your files, the path should be organized:\n",
    "\n",
    "        {your-directory}\n",
    "        ├─  patient_id\n",
    "        |   ├─  study_uid\n",
    "        │   |   ├─  series_uid\n",
    "        |   |   |   ├─  *.dcm\n",
    "        |   |   |   .\n",
    "        |   |   |   └─    ...\n",
    "        |   |   .\n",
    "        |   |   └─ ...\n",
    "        |   .\n",
    "        |   └─  ...\n",
    "        .\n",
    "        └─  ...\n",
    "\n",
    "    3. You can select which columns you want to keep as metadata for each patient. (See the default columns bellow)\n",
    "\n",
    "    4. You can select to extract the all the .dcm files to .nii.gz OR you may perform this action later."
   ]
  },
  {
   "cell_type": "code",
   "execution_count": 8,
   "metadata": {},
   "outputs": [],
   "source": [
    "#Example load a parquet file for input\n",
    "import pandas as pd\n",
    "UC1_df = pd.read_parquet('data/UseCase1-v1.parquet')"
   ]
  },
  {
   "cell_type": "code",
   "execution_count": 9,
   "metadata": {},
   "outputs": [],
   "source": [
    "loader = ImageLoader(images_directory_path='DICOM_images', #path to directory of the files from rsync, after they were extracted!!!\n",
    "                     parquet_series=UC1_df, #Set-up a pd.Dataframe...\n",
    "                     parquet_segmentations='data/Seg_UseCase1-v1.parquet', # ...or just add the path\n",
    "                     add_columns='carcinoma_classification', # Default is True, assume the user want to keep this column also. You may give a list of column names also\n",
    "                     extract_nii=True,  # Default is True, Perform extraction to Niifty after reading dcm files. False to check image  \n",
    "                     reset_logger= True) # Default is True, this will create \"./issues/image_loader.json\" (empty dict) that logs issues and warnings found. Reset will empty the .json"
   ]
  },
  {
   "cell_type": "markdown",
   "metadata": {},
   "source": [
    "Default values "
   ]
  },
  {
   "cell_type": "code",
   "execution_count": 5,
   "metadata": {},
   "outputs": [
    {
     "data": {
      "application/vnd.jupyter.widget-view+json": {
       "model_id": "223d14dc73344201965f2bcd0ce26908",
       "version_major": 2,
       "version_minor": 0
      },
      "text/plain": [
       "Reading ... :   0%|          | 0/440 [00:00<?, ?it/s]"
      ]
     },
     "metadata": {},
     "output_type": "display_data"
    },
    {
     "data": {
      "application/vnd.jupyter.widget-view+json": {
       "model_id": "86832a380d0643fe840edb30fae61d09",
       "version_major": 2,
       "version_minor": 0
      },
      "text/plain": [
       "Extract to .nii.gz :   0%|          | 0/440 [00:00<?, ?it/s]"
      ]
     },
     "metadata": {},
     "output_type": "display_data"
    }
   ],
   "source": [
    "loader.GetImageLoader()"
   ]
  },
  {
   "cell_type": "markdown",
   "metadata": {},
   "source": [
    "## Outputs:\n",
    "\n",
    "    1. image_loader.json:\n",
    "\n",
    "        {patient_id:\n",
    "            study_id:\n",
    "                \"image_series\":  #where image_series is (T2, ADC, DWI, SEG)\n",
    "                    \"key_series\": #where key_series is 'N/A' for T2, ADC, b-value for DWI, label segmentation for SEG\n",
    "                        meta: ... #metadata for series\n",
    "                        (Only MR sequences)\n",
    "                        dcm_path: \n",
    "                            'image slice location: #str(float) slice location \n",
    "                                path: ... #path to .dcm file\n",
    "                                ImagePositionPatient: ... #dicom tag  Image Position (Patient) (0020,0032)\n",
    "                        (Only SEG)\n",
    "                        nii_path: #path to extracted *.nii.gz segmentation file\n",
    "        }\n",
    "\n",
    "    2. issues/image_loader.json: issues/warnings upon reading the dcm files\n",
    "\n",
    "    3. (if selected) nifty_files.json keys are the MRsequences or name of the segmentation and value the path to .nii.gz files\n"
   ]
  },
  {
   "cell_type": "markdown",
   "metadata": {},
   "source": [
    "# If you want to extract .nii.gz after checking \"image_loader.json\""
   ]
  },
  {
   "cell_type": "markdown",
   "metadata": {},
   "source": [
    "Set ImageLoader's extract_nii = False\n",
    "\n",
    "And call:"
   ]
  },
  {
   "cell_type": "code",
   "execution_count": 1,
   "metadata": {},
   "outputs": [],
   "source": [
    "from ProCanLoad.ImageLoader import DICOM2NII"
   ]
  },
  {
   "cell_type": "code",
   "execution_count": 3,
   "metadata": {},
   "outputs": [
    {
     "data": {
      "application/vnd.jupyter.widget-view+json": {
       "model_id": "a8589c69a5c24e8f883fda2de6f63285",
       "version_major": 2,
       "version_minor": 0
      },
      "text/plain": [
       "  0%|          | 0/440 [00:00<?, ?it/s]"
      ]
     },
     "metadata": {},
     "output_type": "display_data"
    }
   ],
   "source": [
    "extractor = DICOM2NII(image_loader='image_loader.json',\n",
    "              keep_max_bvalue= True, #This will keep from DWI sequences only the largest bvalue, default = True\n",
    "              )\n",
    "extractor.Excecute()"
   ]
  }
 ],
 "metadata": {
  "kernelspec": {
   "display_name": "base",
   "language": "python",
   "name": "python3"
  },
  "language_info": {
   "codemirror_mode": {
    "name": "ipython",
    "version": 3
   },
   "file_extension": ".py",
   "mimetype": "text/x-python",
   "name": "python",
   "nbconvert_exporter": "python",
   "pygments_lexer": "ipython3",
   "version": "3.9.16"
  },
  "orig_nbformat": 4
 },
 "nbformat": 4,
 "nbformat_minor": 2
}
